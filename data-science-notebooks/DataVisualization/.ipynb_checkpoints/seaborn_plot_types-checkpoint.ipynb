{
 "cells": [
  {
   "cell_type": "markdown",
   "metadata": {
    "pycharm": {
     "name": "#%% md\n"
    }
   },
   "source": [
    "# Plot types"
   ]
  },
  {
   "cell_type": "code",
   "execution_count": 16,
   "metadata": {
    "pycharm": {
     "name": "#%%\n"
    }
   },
   "outputs": [],
   "source": [
    "import numpy as np\n",
    "import pandas as pd\n",
    "import matplotlib.pyplot as plt\n",
    "import seaborn as sns"
   ]
  },
  {
   "cell_type": "markdown",
   "metadata": {
    "pycharm": {
     "name": "#%% md\n"
    }
   },
   "source": [
    "## Parameters:\n",
    "\n",
    "- bins\n",
    "\n",
    "More information:\n",
    "- kind\n",
    "- kde\n",
    "- legend\n",
    "\n",
    "Access:\n",
    "- rug\n",
    "\n",
    "Looks:\n",
    "- ax\n",
    "- fill\n",
    "\n",
    "Faceting:\n",
    "- x\n",
    "- y\n",
    "- hue\n",
    "- hue order\n",
    "- row\n",
    "- col\n",
    "\n",
    "### Passing parameters to another plotting function\n",
    "\n",
    "#### Internally\n",
    "\n",
    "`{plot_name}_kws` i.e. kde_kws\n",
    "\n",
    "#### Externally - to matplotlib\n",
    "\n",
    "Use **kwargs\n"
   ]
  },
  {
   "cell_type": "markdown",
   "metadata": {
    "pycharm": {
     "name": "#%% md\n"
    }
   },
   "source": [
    "## [FacetGrid](https://seaborn.pydata.org/generated/seaborn.FacetGrid.html)\n",
    "\n",
    "Multi-plot grid for plotting conditional relationships.\n",
    "\n",
    "![FacetGrid](https://seaborn.pydata.org/_images/FacetGrid_5_0.png)"
   ]
  },
  {
   "cell_type": "markdown",
   "metadata": {
    "pycharm": {
     "name": "#%% md\n"
    }
   },
   "source": [
    "## [displot](https://seaborn.pydata.org/generated/seaborn.displot.html)\n",
    "\n",
    "\n",
    "Figure-level interface for drawing distribution plots onto a FacetGrid.\n",
    "\n",
    "Kinds:\n",
    "\n",
    "- histplot\n",
    "- kdeplot\n",
    "- ecdfplot\n",
    "\n",
    "### [histplot](https://seaborn.pydata.org/generated/seaborn.histplot.html#seaborn.histplot)\n",
    "Plot univariate or bivariate **histograms** to show distributions of datasets.\n",
    "\n",
    "![histplot](https://seaborn.pydata.org/_images/histplot_27_0.png)\n",
    "\n",
    "Legends appears because of specified hue.\n",
    "\n",
    "### [kdeplot](https://seaborn.pydata.org/generated/seaborn.kdeplot.html#seaborn.kdeplot)\n",
    "Plot univariate or bivariate distributions using **kernel density estimation**.\n",
    "\n",
    "![kdeplot](https://seaborn.pydata.org/_images/distributions_41_0.png)\n",
    "\n",
    "### [ecdfplot](https://seaborn.pydata.org/generated/seaborn.ecdfplot.html#seaborn.ecdfplot)\n",
    "Plot _empirical cumulative distribution_ functions.\n",
    "\n",
    "![ecdfplot](https://seaborn.pydata.org/_images/ecdfplot_1_0.png)"
   ]
  },
  {
   "cell_type": "markdown",
   "metadata": {
    "pycharm": {
     "name": "#%% md\n"
    }
   },
   "source": [
    "## [relplot](https://seaborn.pydata.org/generated/seaborn.relplot.html)\n",
    "\n",
    "Figure-level interface for drawing relational plots onto a FacetGrid.\n",
    "\n",
    "Kinds:\n",
    "\n",
    "- scatterplot\n",
    "- lineplot"
   ]
  },
  {
   "cell_type": "markdown",
   "metadata": {
    "pycharm": {
     "name": "#%% md\n"
    }
   },
   "source": [
    "## [catplot](https://seaborn.pydata.org/generated/seaborn.catplot.html)\n",
    "\n",
    "Categorical scatterplots:\n",
    "\n",
    "- stripplot (scatter plot within categories)\n",
    "\n",
    "![stripplot](https://seaborn.pydata.org/_images/seaborn-stripplot-2.png)\n",
    "\n",
    "- swarmplot (non overlapping stripplot)\n",
    "\n",
    "\n",
    "\n",
    "Categorical distribution plots:\n",
    "\n",
    "- boxplot (4 quantiles)\n",
    "\n",
    "- violinplot (features KDE)\n",
    "\n",
    "- boxenplot (large datasets)\n",
    "\n",
    "Categorical estimate plots:\n",
    "\n",
    "- pointplot\n",
    "\n",
    "- barplot (box like, with outliers)\n",
    "\n",
    "- countplot"
   ]
  },
  {
   "cell_type": "markdown",
   "metadata": {
    "pycharm": {
     "name": "#%%\n"
    }
   },
   "source": [
    "histogram and countplot difference"
   ]
  },
  {
   "cell_type": "markdown",
   "metadata": {
    "pycharm": {
     "name": "#%% md\n"
    }
   },
   "source": [
    "### ![histogram vs counts](https://i.stack.imgur.com/vQZ2n.png)\n",
    "\n",
    "[stackoverflow](https://stackoverflow.com/questions/54304913/differences-between-seaborn-histogram-countplot-and-distplot)"
   ]
  },
  {
   "cell_type": "markdown",
   "metadata": {
    "pycharm": {
     "name": "#%%\n"
    }
   },
   "source": [
    "## [lmplot](https://seaborn.pydata.org/generated/seaborn.lmplot.html?highlight=lmplot)\n",
    "\n",
    "Plot data and regression model fits across a FacetGrid."
   ]
  },
  {
   "cell_type": "markdown",
   "metadata": {},
   "source": [
    "## [pairplot](https://seaborn.pydata.org/generated/seaborn.pairplot.html)\n",
    "\n",
    "Plot pairwise relationships in a dataset.\n",
    "\n",
    "Diagonals are univariate displots."
   ]
  },
  {
   "cell_type": "markdown",
   "metadata": {},
   "source": [
    "## [jointplot](https://seaborn.pydata.org/generated/seaborn.jointplot.html)\n",
    "\n",
    "Draw a plot of two variables with bivariate and univariate graphs.\n",
    "\n",
    "![jointplot](https://seaborn.pydata.org/_images/jointplot_1_0.png)"
   ]
  }
 ],
 "metadata": {
  "kernelspec": {
   "display_name": "Python 3 (ipykernel)",
   "language": "python",
   "name": "python3"
  },
  "language_info": {
   "codemirror_mode": {
    "name": "ipython",
    "version": 3
   },
   "file_extension": ".py",
   "mimetype": "text/x-python",
   "name": "python",
   "nbconvert_exporter": "python",
   "pygments_lexer": "ipython3",
   "version": "3.9.12"
  }
 },
 "nbformat": 4,
 "nbformat_minor": 1
}
