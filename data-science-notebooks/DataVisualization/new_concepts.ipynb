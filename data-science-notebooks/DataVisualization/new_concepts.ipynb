{
 "cells": [
  {
   "cell_type": "markdown",
   "source": [
    "# New concepts\n",
    "\n",
    "## New words\n",
    "\n",
    "facet - surface, plane, aspect\n",
    "discrete - discontinuous"
   ],
   "metadata": {
    "collapsed": false,
    "pycharm": {
     "name": "#%% md\n"
    }
   }
  },
  {
   "cell_type": "markdown",
   "source": [
    "## Math\n",
    "\n",
    "### Iverson bracket\n",
    "$ {\\displaystyle [P]={\\begin{cases}1&{\\text{if }}P{\\text{ is true;}}\\\\0&{\\text{otherwise.}}\\end{cases}}} $\n",
    "\n",
    "### Indicator function (characteristic function)\n",
    "Maps all elements from a subset to one and all other elements to zero.\n",
    "\n",
    "$ \\displaystyle \\mathbf {1} _{A}(x)=[x\\in A] $\n",
    "\n",
    "### Dirac measure\n",
    "Maps subsets containing element to one and all other elements to zero.\n",
    "$ {\\displaystyle \\delta _{x}(A)=1_{A}(x)={\\begin{cases}0,&x\\not \\in A;\\\\1,&x\\in A.\\end{cases}}} $"
   ],
   "metadata": {
    "collapsed": false,
    "pycharm": {
     "name": "#%% md\n"
    }
   }
  },
  {
   "cell_type": "markdown",
   "source": [
    "## Statistics\n",
    "\n",
    "### Empirical measure\n",
    "\n",
    "Random measure arising from a (usually finite) sequence of random variables.\n",
    "\n",
    "$ P_{n}(A)={1 \\over n}\\sum _{{i=1}}^{n}I_{A}(X_{i})={\\frac  {1}{n}}\\sum _{{i=1}}^{n}\\delta _{{X_{i}}}(A) $\n",
    "\n",
    "### Empirical distribution function (empirical Cumulative Distribution Function, eCDF)\n",
    "\n",
    "https://en.wikipedia.org/wiki/Empirical_distribution_function\n",
    "\n",
    "On plots always connects with top and down spine.\n",
    "\n",
    "$ {\\displaystyle {\\widehat {F}}_{n}(t)={\\frac {{\\mbox{number of elements in the sample}}\\leq t}{n}}={\\frac {1}{n}}\\sum _{i=1}^{n}\\mathbf {1} _{X_{i}\\leq t},} $\n",
    "\n",
    "bivariate - dependent on two variables\n",
    "univariate - dependent on one variable\n",
    "\n",
    "### Probability density function\n",
    "\n",
    "Specifies probability of the random variable falling within a particular range of values. Probability density is the probability per unit length, in other words, while the absolute likelihood for a continuous random variable to take on any particular value is 0 (since there is an infinite set of possible values to begin with)\n",
    "\n",
    "### Window function\n",
    "\n",
    "Mathematical function that is zero-valued outside of some chosen interval, normally symmetric around the middle of the interval, usually near a maximum in the middle, and usually tapering away from the middle.\n",
    "\n",
    "### Kernel\n",
    "\n",
    "The term kernel is used in statistical analysis to refer to a window function. The term \"kernel\" has several distinct meanings in different branches of statistics.\n",
    "\n",
    "\n",
    "### Kernel density estimation\n",
    "\n",
    "The application of kernel smoothing for probability density estimation, i.e., a non-parametric method to estimate the probability density function of a random variable based on kernels as weights."
   ],
   "metadata": {
    "collapsed": false,
    "pycharm": {
     "name": "#%% md\n"
    }
   }
  },
  {
   "cell_type": "code",
   "execution_count": null,
   "outputs": [],
   "source": [],
   "metadata": {
    "collapsed": false,
    "pycharm": {
     "name": "#%%\n"
    }
   }
  }
 ],
 "metadata": {
  "kernelspec": {
   "display_name": "Python 3",
   "language": "python",
   "name": "python3"
  },
  "language_info": {
   "codemirror_mode": {
    "name": "ipython",
    "version": 2
   },
   "file_extension": ".py",
   "mimetype": "text/x-python",
   "name": "python",
   "nbconvert_exporter": "python",
   "pygments_lexer": "ipython2",
   "version": "2.7.6"
  }
 },
 "nbformat": 4,
 "nbformat_minor": 0
}