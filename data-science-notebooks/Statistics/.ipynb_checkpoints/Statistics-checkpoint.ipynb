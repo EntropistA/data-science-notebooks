{
 "cells": [
  {
   "cell_type": "markdown",
   "id": "b5a1b22d",
   "metadata": {},
   "source": [
    "Resources:\n",
    "\n",
    "https://study.com/academy/course/statistics-course.html\n",
    "\n",
    "https://www.scribbr.com/statistics/\n",
    "\n",
    "[FreeCodeCamp - 8 hour video](https://www.youtube.com/watch?v=xxpc-HPKN28)\n",
    "\n",
    "[datacamp - 4 hour Introduction Course](https://app.datacamp.com/learn/courses/introduction-to-statistics)"
   ]
  },
  {
   "cell_type": "code",
   "execution_count": 1,
   "id": "cfff75fa",
   "metadata": {},
   "outputs": [],
   "source": [
    "from random import randint\n",
    "\n",
    "import numpy as np\n",
    "import pandas as pd\n",
    "import matplotlib.pyplot as plt\n",
    "import seaborn as sns\n",
    "\n",
    "sns.set()"
   ]
  },
  {
   "cell_type": "markdown",
   "id": "d456367d",
   "metadata": {},
   "source": [
    "# Statistics\n",
    "\n",
    "Study of how to collect, organize, analyze and interpret numerical information. Helps making decisions. Science of uncertainity and technology.\n",
    "\n",
    "Data distinction: \n",
    "\n",
    "- Individual - object in a study\n",
    "- Variable - charasteristic of an individual\n",
    "\n",
    "Branches:\n",
    "\n",
    "- Descriptive (Summary) - showing characteristics of data\n",
    "- Inferencial - applying results from a small sample to a representation\n",
    "\n",
    "## Population and sample\n",
    "\n",
    "Population - a group of people with a common theme. All members of the group are considered a population.\n",
    "\n",
    "Sample - small portion of the population\n",
    "\n",
    "Types of sample:\n",
    "\n",
    "- Biased - created by choosing a specific criteria that only a portion of population has\n",
    "- Representative - randomly selected with a sample big enough\n",
    "\n",
    "## Types of data\n",
    "\n",
    "1. Numerical (Quantitative)\n",
    "\n",
    "- continuous (float)\n",
    "- interval / count (integer)\n",
    "\n",
    "2. Categorical (Qualitative)\n",
    "\n",
    "- nominal (ie blue, red, green)\n",
    "- ordinal (ie bad, ok, great)\n",
    "\n",
    "## Variables\n",
    "\n",
    "- x - explanatory / independant\n",
    "- y - response / dependant\n",
    "\n",
    "## Tips\n",
    "\n",
    "- summary statistics should not be used blindly - always visualize "
   ]
  },
  {
   "cell_type": "markdown",
   "id": "c5afc37c",
   "metadata": {},
   "source": [
    "# Measures of center\n",
    "\n",
    "Outlier - data substancially different to others\n",
    "\n",
    "data < Q1 - 1.5 * IQR\n",
    "data > Q3 + 1.5 * IQR"
   ]
  },
  {
   "cell_type": "code",
   "execution_count": 2,
   "id": "c7dce17e",
   "metadata": {},
   "outputs": [
    {
     "data": {
      "text/plain": [
       "'mean: 32.92 median: 24.0'"
      ]
     },
     "execution_count": 2,
     "metadata": {},
     "output_type": "execute_result"
    },
    {
     "data": {
      "image/png": "[encoded data removed]",
      "text/plain": [
       "<Figure size 432x288 with 1 Axes>"
      ]
     },
     "metadata": {},
     "output_type": "display_data"
    }
   ],
   "source": [
    "data = np.array([randint(1, 50) for _ in range(100)])\n",
    "data[randint(0, 99)] = randint(500, 1000)\n",
    "\n",
    "sns.lineplot(data=data)\n",
    "\n",
    "def mean_median(data):\n",
    "    return f\"mean: {data.mean()} median: {np.median(data)}\"\n",
    "\n",
    "mean_median(data)"
   ]
  },
  {
   "cell_type": "markdown",
   "id": "b2026aae",
   "metadata": {},
   "source": [
    "Outliers **affects mean more** than median.\n",
    "\n",
    "Spread - how apart data points are from _mean_ or _median_\n",
    "\n",
    "Quartiles - quantile that divide sorted from smallest to largest data into 4 equal size parts (quarters).\n",
    "\n",
    "Q1 - 25% of data is less than equal this point\n",
    "Q2 - 50% of data is less than equal this point\n",
    "Q3 - 75% of data is less than equal this point\n",
    "\n",
    "IQR = Q3 - Q1\n",
    "\n",
    "scipy.stats.iqr()\n",
    "\n",
    "Measures of _spread_:\n",
    "\n",
    "- Range = maximum - minimum\n",
    "\n",
    "- Interquartile Range (IQR) - _Range_ in a specific quartile\n",
    "\n",
    "- Variance - quotient of sum of squared distnces from mean and number of data\n",
    "\n",
    "- STD (Standard Deviation) - Square root of _variance_\n",
    "\n",
    "![IQR](https://assets.datacamp.com/production/repositories/5758/datasets/ca7e6e1832be7ec1842f62891815a9b0488efa83/Screen%20Shot%202020-04-28%20at%2010.04.54%20AM.png)"
   ]
  },
  {
   "cell_type": "code",
   "execution_count": 3,
   "id": "508b378b",
   "metadata": {},
   "outputs": [
    {
     "data": {
      "text/plain": [
       "'range: 860'"
      ]
     },
     "execution_count": 3,
     "metadata": {},
     "output_type": "execute_result"
    }
   ],
   "source": [
    "f\"range: {data.max() - data.min()}\""
   ]
  },
  {
   "cell_type": "code",
   "execution_count": 12,
   "id": "e0f6dc39",
   "metadata": {},
   "outputs": [
    {
     "data": {
      "text/plain": [
       "2.560000000000001"
      ]
     },
     "execution_count": 12,
     "metadata": {},
     "output_type": "execute_result"
    }
   ],
   "source": [
    "np.var(pd.Series(data)) # use ddof=1 argument when using only the sample"
   ]
  },
  {
   "cell_type": "markdown",
   "id": "c5eaf8f5",
   "metadata": {},
   "source": [
    "## Mean Absolute Deviation\n",
    "MAD penalizes all distances equally, while STD penalizes long distances more thank shorter ones."
   ]
  },
  {
   "cell_type": "code",
   "execution_count": 14,
   "id": "9db9fd19",
   "metadata": {},
   "outputs": [
    {
     "data": {
      "text/plain": [
       "(4.2, 1.6000000000000003)"
      ]
     },
     "execution_count": 14,
     "metadata": {},
     "output_type": "execute_result"
    }
   ],
   "source": [
    "np.mean(np.abs(pd.Series(data))), np.std(pd.Series(data))"
   ]
  },
  {
   "cell_type": "markdown",
   "id": "ccfbdbb6",
   "metadata": {},
   "source": [
    "# Probability\n",
    "\n",
    "Sampling with Replacement - previous events **change** future events chances.\n",
    "\n",
    "Sampling with Replacement - previous events **do not** change future event chances.\n",
    "\n",
    "Discrete - defined for a finite or countable set of values, not continuous. _Distrite Outcomes_ are count or interval data\n",
    "\n",
    "## Law of large numbers\n",
    "\n",
    "As the size of sample increases the sample mean gets closer to theoritical mean.\n",
    "\n",
    "## The Central Limit Theorem (CLT)\n",
    "\n",
    "The sampling distribution of statistics become closer to the normal distribution as the sample increases. Samples should be random, independent and of size >= 30\n",
    "\n",
    "# Distributions\n",
    "\n",
    "## Continuous Uniform Distribution\n",
    "Continuous Uniform Distribution probability is the same each time."
   ]
  },
  {
   "cell_type": "code",
   "execution_count": 5,
   "id": "85286980",
   "metadata": {},
   "outputs": [
    {
     "data": {
      "text/plain": [
       "<matplotlib.collections.PolyCollection at 0x7fa186cf8c70>"
      ]
     },
     "execution_count": 5,
     "metadata": {},
     "output_type": "execute_result"
    },
    {
     "data": {
      "image/png": "[encoded data removed]",
      "text/plain": [
       "<Figure size 432x288 with 1 Axes>"
      ]
     },
     "metadata": {},
     "output_type": "display_data"
    }
   ],
   "source": [
    "data = {i: 0.1 for i in range(1, 11)}\n",
    "\n",
    "fig, ax = plt.subplots()\n",
    "sns.lineplot(data=data, ax=ax)\n",
    "\n",
    "ax.set(xticks=range(1, 11),xlabel=\"time [minute]\", yticks=[0.1], ylabel=\"probability\", title=\"Probability of bus arriving at a specific time given the 10 minut period between each ride.\")\n",
    "\n",
    "ax.fill_between(data.keys(), data.values())"
   ]
  },
  {
   "cell_type": "markdown",
   "id": "7e836f28",
   "metadata": {},
   "source": [
    "Probability of bus arriving in any 10 minute interval is equal to 1. Therefore 1 / 10 is the probability of bus arrving in a 1 minute interval.\n",
    "\n",
    "We can measure the probability \n",
    "\n",
    "There is **infinitely low** chance of bus arriving at a specific time point.\n",
    "\n",
    "## Bimodal Distribution\n",
    "\n",
    "The most common multi-modal distribution consisting of 2 modes.\n",
    "\n",
    "## Standard Distribution\n",
    "\n",
    "Charasteristics:\n",
    "\n",
    "- Bell Shaped\n",
    "- symmetrical\n",
    "- probability **is never** 0 (lim is 0)\n",
    "- described by mean, std\n",
    "\n",
    "### Standard Normal Distribution\n",
    "\n",
    "- X axis center on 0\n",
    "\n",
    "### Percentages rule\n",
    "\n",
    "- 68 % below 1 STD\n",
    "- 95 % below 2 STD\n",
    "- 99.7 % below 3 STD\n",
    "\n",
    "## Binomial Distribution\n",
    "\n",
    "- n - number of independent boolean experiments\n",
    "- p - probability of success\n",
    "- q = 1 - p - probability of failure\n",
    "- expected number of successes = n * p\n",
    "\n",
    "## Poisson Distribution\n",
    "\n",
    "Distribution of probability when the average number of events in period is known. Time between is random.\n",
    "\n",
    "For example people arriving in a restaurant in 1 hour.\n",
    "\n",
    "The largest chance is for average number of events to happen.\n",
    "\n",
    "lambda (a peak) = average number of events / time interval\n",
    "\n",
    "![img](https://www.investopedia.com/thmb/AHrnFS0q_tOQkmciHzV96ZK3378=/6250x3959/filters:no_upscale():max_bytes(150000):strip_icc()/Clipboard01-23850f297c19425b86aecdc1d560ad40.jpg)\n",
    "\n",
    "## Exponential Distribution\n",
    "\n",
    "Probability of time between Poisson events.\n",
    "\n",
    "- continuous\n",
    "- lambda - average_events / time rate\n",
    "- expected_time = 1 / alpha\n",
    "\n",
    "## (Student's) t-distribution\n",
    "\n",
    "- similar shape to a normal distribution\n",
    "- thicker tails (observations can more likely fall from the mean)\n",
    "\n",
    "parameters:\n",
    "\n",
    "- df (degrees of freedom, lower df => thicker tails, larger STD; higher df => close to normal)\n",
    "\n",
    "\n",
    "## Log-normal Distribution\n",
    "\n",
    "Variable whose logarithm is normally distributed\n",
    "\n",
    "\n",
    "## Skewness"
   ]
  },
  {
   "cell_type": "code",
   "execution_count": 6,
   "id": "bbb6c285",
   "metadata": {},
   "outputs": [
    {
     "data": {
      "text/plain": [
       "Text(0.5, 1.0, 'left skewed')"
      ]
     },
     "execution_count": 6,
     "metadata": {},
     "output_type": "execute_result"
    },
    {
     "data": {
      "image/png": "[encoded data removed]",
      "text/plain": [
       "<Figure size 720x360 with 2 Axes>"
      ]
     },
     "metadata": {},
     "output_type": "display_data"
    }
   ],
   "source": [
    "fig, (ax1, ax2) = plt.subplots(1, 2, figsize=(10, 5))\n",
    "\n",
    "x_values = [randint(15, 20) for _ in range(10)] + [randint(1, 3) for _ in range(10)]\n",
    "data = {i: n for i, n in enumerate(x_values, 1)}\n",
    "sns.lineplot(data=data, ax=ax1)\n",
    "ax1.set_title(\"right skewed\")\n",
    "\n",
    "data = {i: n for i, n in enumerate(x_values[::-1], 1)}\n",
    "sns.lineplot(data=data, ax=ax2)\n",
    "ax2.set_title(\"left skewed\")"
   ]
  },
  {
   "cell_type": "markdown",
   "id": "92f3d735",
   "metadata": {},
   "source": [
    "- Tailedness - how often outliers occur. Excess kurtosis is the tailedness of a distribution relative to a __normal distribution__.\n",
    "- Kurtosis - a measure of the tailedness of a distribution.\n"
   ]
  },
  {
   "cell_type": "code",
   "execution_count": 7,
   "id": "6064e8f4",
   "metadata": {},
   "outputs": [
    {
     "data": {
      "text/plain": [
       "[Text(0.5, 1.0, 'Platykurtic Probability Distribution')]"
      ]
     },
     "execution_count": 7,
     "metadata": {},
     "output_type": "execute_result"
    },
    {
     "data": {
      "image/png": "[encoded data removed]",
      "text/plain": [
       "<Figure size 1080x360 with 3 Axes>"
      ]
     },
     "metadata": {},
     "output_type": "display_data"
    }
   ],
   "source": [
    "fig, (ax1, ax2, ax3) = plt.subplots(1, 3, figsize=(15, 5))\n",
    "\n",
    "data = {i:n for i, n in enumerate([1, 1, 2, 2, 5, 5, 2, 2, 1, 1])}\n",
    "sns.lineplot(data=data, ax=ax1)\n",
    "ax1.set(title=\"leptokurtic probability distribution\".title())\n",
    "\n",
    "data = {i:n for i, n in enumerate([1, 2, 3, 4, 5, 5, 4, 3, 2, 1])}\n",
    "sns.lineplot(data=data, ax=ax2)\n",
    "ax2.set(title=\"mesokurtic probability distribution\".title())\n",
    "\n",
    "data = {i:n for i, n in enumerate([1, 5, 5, 5, 5, 5,  5, 5, 5, 1])}\n",
    "sns.lineplot(data=data, ax=ax3)\n",
    "ax3.set(title=\"platykurtic probability distribution\".title())"
   ]
  },
  {
   "cell_type": "code",
   "execution_count": 8,
   "id": "16346ae5",
   "metadata": {},
   "outputs": [
    {
     "data": {
      "text/html": [
       "<div>\n",
       "<style scoped>\n",
       "    .dataframe tbody tr th:only-of-type {\n",
       "        vertical-align: middle;\n",
       "    }\n",
       "\n",
       "    .dataframe tbody tr th {\n",
       "        vertical-align: top;\n",
       "    }\n",
       "\n",
       "    .dataframe thead th {\n",
       "        text-align: right;\n",
       "    }\n",
       "</style>\n",
       "<table border=\"1\" class=\"dataframe\">\n",
       "  <thead>\n",
       "    <tr style=\"text-align: right;\">\n",
       "      <th></th>\n",
       "      <th>Platykurtic</th>\n",
       "      <th>Mesokurtic</th>\n",
       "      <th>Leptokurtic</th>\n",
       "    </tr>\n",
       "    <tr>\n",
       "      <th></th>\n",
       "      <th></th>\n",
       "      <th></th>\n",
       "      <th></th>\n",
       "    </tr>\n",
       "  </thead>\n",
       "  <tbody>\n",
       "    <tr>\n",
       "      <th>Tailedness</th>\n",
       "      <td>Thin-tailed</td>\n",
       "      <td>Medium-tailed</td>\n",
       "      <td>Fat-tailed</td>\n",
       "    </tr>\n",
       "    <tr>\n",
       "      <th>Outlier frequency</th>\n",
       "      <td>Low</td>\n",
       "      <td>Medium</td>\n",
       "      <td>High</td>\n",
       "    </tr>\n",
       "    <tr>\n",
       "      <th>Kurtosis</th>\n",
       "      <td>Low (&lt; 3)</td>\n",
       "      <td>Moderate (3)</td>\n",
       "      <td>High (&gt; 3)</td>\n",
       "    </tr>\n",
       "    <tr>\n",
       "      <th>Excess kurtosis</th>\n",
       "      <td>Negative</td>\n",
       "      <td>0</td>\n",
       "      <td>Positive</td>\n",
       "    </tr>\n",
       "    <tr>\n",
       "      <th>Example distribution</th>\n",
       "      <td>Uniform</td>\n",
       "      <td>Normal</td>\n",
       "      <td>Laplace</td>\n",
       "    </tr>\n",
       "  </tbody>\n",
       "</table>\n",
       "</div>"
      ],
      "text/plain": [
       "                      Platykurtic     Mesokurtic Leptokurtic\n",
       "                                                            \n",
       "Tailedness            Thin-tailed  Medium-tailed  Fat-tailed\n",
       "Outlier frequency             Low         Medium        High\n",
       "Kurtosis                Low (< 3)   Moderate (3)  High (> 3)\n",
       "Excess kurtosis          Negative              0    Positive\n",
       "Example distribution      Uniform         Normal     Laplace"
      ]
     },
     "execution_count": 8,
     "metadata": {},
     "output_type": "execute_result"
    }
   ],
   "source": [
    "charasteristics = pd.read_html(\"https://www.scribbr.com/statistics/kurtosis/\")[0]\n",
    "\n",
    "charasteristics.set_index(charasteristics.columns[0], inplace=True)\n",
    "charasteristics.index.rename(\"\", inplace=True)\n",
    "charasteristics.columns = charasteristics.columns.droplevel(0)\n",
    "charasteristics = charasteristics[[\"Platykurtic\", \"Mesokurtic\", \"Leptokurtic\"]]\n",
    "\n",
    "charasteristics.head()"
   ]
  },
  {
   "cell_type": "markdown",
   "id": "1b85552a",
   "metadata": {},
   "source": [
    "# Hypothesis testing\n",
    "\n",
    "1. Null Hypothesis - assumption of no difference between population\n",
    "\n",
    "2. Alternative Hypothesis - assumption of difference existing\n",
    "\n",
    "## Concluding Hypothesis\n",
    "\n",
    "- p - assuming the null hypothesis is true, probability of achieving results at least as extreme as these specific ones observed. Overlappings of plot.\n",
    "\n",
    "- α (Significance Level, Alpha) - typical 0.05, chance of wrong concluding alternative hypothesis\n",
    "\n",
    "If p <= α reject the null hypothesis\n",
    "\n",
    "True null hypothesis is rejected -> _Type 1 Error_\n",
    "False null hypothesis is accepted -> _Type 2 Error_\n",
    "\n",
    "\n",
    "## An example of _hypothesis testing_ is _experiment_\n",
    "\n",
    "We need at least 2 variables (independent and dependent one) and 2 at least groups (treatment, control)\n",
    "\n",
    "## The Gold Standard of experiments\n",
    "\n",
    "1. Randomization (randomized control trial) - makes groups comparable\n",
    "2. Blinding (participants don't know in which group they are in)\n",
    "3. Double-blind (runners of the experiment don't know in which groups participants are)\n",
    "\n",
    "The lesser _bias_, the larger _relability_\n",
    "\n",
    "## A / B testing - popular method of experiments with only 2 groups\n",
    "\n",
    "## Observational Studies\n",
    "\n",
    "Participants assign themselves based on pre-existing characteristics.\n",
    "\n",
    "- can only establish association, not causation due to incomparable groups\n",
    "\n",
    "## Longitudial\n",
    "\n",
    "Participants are followed over a period of time to examine effects of treatment on response.\n",
    "\n",
    "- expensive, takes longer time\n",
    "\n",
    "## Cross-sectional studies\n",
    "\n",
    "Data is collected from a single snapshot in time.\n",
    "\n",
    "- cheaper, faster, more convenient"
   ]
  },
  {
   "cell_type": "markdown",
   "id": "081ec978",
   "metadata": {},
   "source": [
    "# Correlations\n",
    "\n",
    "spurious correlation - connection between two variables that appears to be casual but it is not\n",
    "confounder (lurking variable) - unkown variable between 2, that leads to a spurious correlation\n",
    "\n",
    "- reciprocal transformation 1 / x\n",
    "\n",
    "## Pearson Correlation Coefficient\n",
    "\n",
    "Shows strenght of linear relationship between two variables in scale < -1, 1 >\n",
    "\n",
    "Calculated using product-moment correlation (r)\n",
    "\n",
    "Formulas:\n",
    "- Kendall's tau\n",
    "- Spearman's rho\n",
    "\n",
    "0.99 very strong\n",
    "0.75 strong\n",
    "0.56 moderate\n",
    "0.21 weak\n",
    "0.04 no reltionship\n",
    "\n",
    "CORRELATION != CAUSATION\n",
    "\n",
    "Confounding Variable - not measured but may affect the relationship between variables\n",
    "\n",
    "Good practises:\n",
    "- Always ask yourself - \"What else might have affected the results?\""
   ]
  },
  {
   "cell_type": "markdown",
   "id": "11db53a0",
   "metadata": {},
   "source": [
    "# scipy.stats\n",
    "\n",
    "## norm\n",
    "\n",
    "rvs: Random Variates\n",
    "\n",
    "pdf: Probability Density Function\n",
    "\n",
    "pmf: Probability Mass Function\n",
    "\n",
    "cdf: Cumulative Distribution Function\n",
    "\n",
    "sf: Survival Function (1-CDF)\n",
    "\n",
    "ppf: Percent Point Function (Inverse of CDF)\n",
    "\n",
    "isf: Inverse Survival Function (Inverse of SF)\n",
    "\n",
    "stats: Return mean, variance, (Fisher’s) skew, or (Fisher’s) kurtosis\n",
    "\n",
    "moment: non-central moments of the distribution\n",
    "\n",
    "## poisson\n",
    "\n",
    "pmf(v, average_value)\n",
    "\n",
    "\n",
    "## expon\n",
    "\n",
    "scale = 1/lambda\n",
    "\n",
    "http://scipy.github.io/devdocs/tutorial/stats.html\n",
    "\n",
    "http://scipy.github.io/devdocs/reference/generated/scipy.stats.norm.html\n",
    "http://scipy.github.io/devdocs/reference/generated/scipy.stats.binom.html\n",
    "https://scipy.github.io/devdocs/reference/generated/scipy.stats.poisson.html"
   ]
  }
 ],
 "metadata": {
  "kernelspec": {
   "display_name": "Python 3 (ipykernel)",
   "language": "python",
   "name": "python3"
  },
  "language_info": {
   "codemirror_mode": {
    "name": "ipython",
    "version": 3
   },
   "file_extension": ".py",
   "mimetype": "text/x-python",
   "name": "python",
   "nbconvert_exporter": "python",
   "pygments_lexer": "ipython3",
   "version": "3.9.12"
  }
 },
 "nbformat": 4,
 "nbformat_minor": 5
}
